{
 "cells": [
  {
   "metadata": {
    "ExecuteTime": {
     "end_time": "2025-10-02T19:49:51.561681Z",
     "start_time": "2025-10-02T19:49:24.947225Z"
    }
   },
   "cell_type": "code",
   "source": [
    "%useLatestDescriptors\n",
    "%use coroutines\n",
    "\n",
    "USE {\n",
    "    dependencies(\n",
    "        \"ai.koog:koog-agents-jvm:0.5.0\",\n",
    "        \"me.kpavlov.finchly:finchly:0.1.1\",\n",
    "        \"io.kotest:kotest-assertions-core-jvm:6.0.3\"\n",
    "    )\n",
    "}"
   ],
   "outputs": [],
   "execution_count": 39
  },
  {
   "metadata": {},
   "cell_type": "markdown",
   "source": [
    "# What is 2 + 2 ?\n",
    "![](https://avatars.githubusercontent.com/u/878437?s=100&v=4)\n",
    "With JetBrains Koog https://koog.ai"
   ]
  },
  {
   "metadata": {},
   "cell_type": "code",
   "source": [
    "import ai.koog.agents.core.agent.AIAgent\n",
    "import ai.koog.prompt.executor.clients.openai.OpenAIModels\n",
    "import ai.koog.prompt.executor.llms.all.simpleOpenAIExecutor\n",
    "import io.kotest.assertions.assertSoftly\n",
    "import kotlinx.coroutines.runBlocking\n",
    "import me.kpavlov.finchly.BaseTestEnvironment\n",
    "\n",
    "val env = BaseTestEnvironment(dotEnvFileDir = \"./../\")\n",
    "\n",
    "val agent = AIAgent(\n",
    "    promptExecutor = simpleOpenAIExecutor(env[\"OPENAI_API_KEY\"]!!),\n",
    "    llmModel = OpenAIModels.CostOptimized.GPT4_1Mini,\n",
    "    temperature = 0.9\n",
    ")\n",
    "\n",
    "runBlocking {\n",
    "    assertSoftly {\n",
    "        repeat(10) {\n",
    "            val answer = agent.run(\"What is two plus 2\")\n",
    "            if (answer.contains(\"4\")) {\n",
    "                println(\"✅ answer: $answer\")\n",
    "            } else {\n",
    "                println(\"❌ answer: $answer\")\n",
    "            }\n",
    "            answer shouldContain \"4\"\n",
    "        }\n",
    "    }\n",
    "}"
   ],
   "outputs": [],
   "execution_count": null
  },
  {
   "metadata": {},
   "cell_type": "markdown",
   "source": [
    "# How to test it?\n",
    "Lower the expectations!"
   ]
  },
  {
   "metadata": {},
   "cell_type": "code",
   "source": [
    "import io.kotest.matchers.Matcher\n",
    "import io.kotest.matchers.compose.any\n",
    "import io.kotest.matchers.shouldBe\n",
    "import io.kotest.matchers.string.shouldContain\n",
    "import io.kotest.matchers.string.shouldContainIgnoringCase\n",
    "import io.kotest.matchers.string.shouldNotContainIgnoringCase\n",
    "import kotlinx.coroutines.runBlocking\n",
    "import me.kpavlov.finchly.BaseTestEnvironment\n",
    "\n",
    "val env = BaseTestEnvironment(dotEnvFileDir = \"./../\")\n",
    "\n",
    "val agent = AIAgent(\n",
    "    promptExecutor = simpleOpenAIExecutor(env[\"OPENAI_API_KEY\"]!!),\n",
    "    llmModel = OpenAIModels.CostOptimized.GPT4_1Mini,\n",
    "    temperature = 0.9\n",
    ")\n",
    "\n",
    "runBlocking {\n",
    "    assertSoftly {\n",
    "        repeat(10) {\n",
    "            val answer = agent.run(\"What is two plus 2\")\n",
    "\n",
    "            if (answer.contains(\"4\") || answer.contains(\"four\")) {\n",
    "                println(\"✅ answer: $answer\")\n",
    "            } else {\n",
    "                println(\"❌ answer: $answer\")\n",
    "            }\n",
    "\n",
    "            answer.contains(\"4\") || answer.contains(\"four\") shouldBe true\n",
    "\n",
    "            answer shouldNotContainIgnoringCase \"five\"\n",
    "            println(\"✅ answer: $answer\")\n",
    "        }\n",
    "    }\n",
    "}\n"
   ],
   "outputs": [],
   "execution_count": null
  },
  {
   "metadata": {},
   "cell_type": "code",
   "source": "",
   "outputs": [],
   "execution_count": null
  }
 ],
 "metadata": {
  "kernelspec": {
   "display_name": "Kotlin",
   "language": "kotlin",
   "name": "kotlin"
  },
  "language_info": {
   "name": "kotlin",
   "version": "2.2.20-Beta2",
   "mimetype": "text/x-kotlin",
   "file_extension": ".kt",
   "pygments_lexer": "kotlin",
   "codemirror_mode": "text/x-kotlin",
   "nbconvert_exporter": ""
  }
 },
 "nbformat": 4,
 "nbformat_minor": 0
}
