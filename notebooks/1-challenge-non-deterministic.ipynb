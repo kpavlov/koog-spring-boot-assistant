{
 "cells": [
  {
   "metadata": {
    "ExecuteTime": {
     "end_time": "2025-09-21T08:38:51.032712Z",
     "start_time": "2025-09-21T08:38:50.842105Z"
    }
   },
   "cell_type": "code",
   "source": [
    "%useLatestDescriptors\n",
    "%use coroutines\n",
    "// ⬇️⬇️⬇️⬇️️\n",
    "%use koog\n",
    "\n",
    "USE {\n",
    "    dependencies(\n",
    "        \"me.kpavlov.finchly:finchly:0.1.1\",\n",
    "        \"io.kotest:kotest-assertions-core-jvm:6.0.3\",\n",
    "        )\n",
    "}"
   ],
   "outputs": [],
   "execution_count": 2
  },
  {
   "metadata": {},
   "cell_type": "markdown",
   "source": [
    "# What is 2 + 2 ?\n",
    "![](https://avatars.githubusercontent.com/u/878437?s=100&v=4)\n",
    "With JetBrains Koog https://koog.ai"
   ]
  },
  {
   "metadata": {
    "ExecuteTime": {
     "end_time": "2025-09-21T08:39:03.287287Z",
     "start_time": "2025-09-21T08:38:51.036663Z"
    }
   },
   "cell_type": "code",
   "source": [
    "import kotlinx.coroutines.runBlocking\n",
    "import me.kpavlov.finchly.BaseTestEnvironment\n",
    "val env = BaseTestEnvironment(dotEnvFileDir = \"./../\")\n",
    "\n",
    "val agent = AIAgent(\n",
    "    executor = simpleOpenAIExecutor(env[\"OPENAI_API_KEY\"]!!),\n",
    "    llmModel = OpenAIModels.CostOptimized.O3Mini,\n",
    "    temperature = 0.9\n",
    ")\n",
    "\n",
    "runBlocking {\n",
    "    repeat(5) {\n",
    "        val answer = agent.run(\"What is two plus two\")\n",
    "//        val answer = agent.run(\"What is 2 + 2\")\n",
    "//        val answer = agent.run(\"What is 2 * 2\")\n",
    "        println(\"✅ answer: $answer\")\n",
    "    }\n",
    "}"
   ],
   "outputs": [
    {
     "name": "stdout",
     "output_type": "stream",
     "text": [
      "✅ answer: Two plus two equals four.\n",
      "✅ answer: Two plus two equals four.\n",
      "✅ answer: Two plus two equals four.\n",
      "✅ answer: Two plus two equals four.\n",
      "✅ answer: Two plus two equals four.\n"
     ]
    }
   ],
   "execution_count": 3
  },
  {
   "metadata": {},
   "cell_type": "markdown",
   "source": "# How to test it?"
  },
  {
   "metadata": {
    "ExecuteTime": {
     "end_time": "2025-09-21T08:39:11.470529Z",
     "start_time": "2025-09-21T08:39:03.293303Z"
    }
   },
   "cell_type": "code",
   "source": [
    "import io.kotest.matchers.Matcher\n",
    "import io.kotest.matchers.compose.any\n",
    "import io.kotest.matchers.shouldBe\n",
    "import io.kotest.matchers.string.shouldContain\n",
    "import io.kotest.matchers.string.shouldContainIgnoringCase\n",
    "import io.kotest.matchers.string.shouldNotContainIgnoringCase\n",
    "import kotlinx.coroutines.runBlocking\n",
    "import me.kpavlov.finchly.BaseTestEnvironment\n",
    "\n",
    "val env = BaseTestEnvironment(dotEnvFileDir = \"./../\")\n",
    "\n",
    "val agent = AIAgent(\n",
    "    executor = simpleOpenAIExecutor(env[\"OPENAI_API_KEY\"]!!),\n",
    "    llmModel = OpenAIModels.CostOptimized.O3Mini,\n",
    "    temperature = 0.9\n",
    ")\n",
    "\n",
    "runBlocking {\n",
    "    repeat(5) {\n",
    "        val answer = agent.run(\"What is two plus two\")\n",
    "\n",
    "        answer.contains(\"4\") || answer.contains(\"four\") shouldBe true\n",
    "\n",
    "        answer shouldNotContainIgnoringCase \"five\"\n",
    "        println(\"✅ answer: $answer\")\n",
    "    }\n",
    "}\n"
   ],
   "outputs": [
    {
     "name": "stdout",
     "output_type": "stream",
     "text": [
      "✅ answer: Two plus two equals four.\n",
      "✅ answer: Two plus two is four.\n",
      "✅ answer: Two plus two is four.\n",
      "✅ answer: Two plus two equals four.\n",
      "✅ answer: Two plus two equals four.\n"
     ]
    }
   ],
   "execution_count": 4
  }
 ],
 "metadata": {
  "kernelspec": {
   "display_name": "Kotlin",
   "language": "kotlin",
   "name": "kotlin"
  },
  "language_info": {
   "name": "kotlin",
   "version": "2.2.20-Beta2",
   "mimetype": "text/x-kotlin",
   "file_extension": ".kt",
   "pygments_lexer": "kotlin",
   "codemirror_mode": "text/x-kotlin",
   "nbconvert_exporter": ""
  },
  "ktnbPluginMetadata": {
   "projectLibraries": true
  }
 },
 "nbformat": 4,
 "nbformat_minor": 0
}
