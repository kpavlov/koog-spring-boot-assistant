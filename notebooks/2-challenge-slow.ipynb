{
 "cells": [
  {
   "metadata": {
    "ExecuteTime": {
     "end_time": "2025-10-02T10:44:02.988455Z",
     "start_time": "2025-10-02T10:44:02.798811Z"
    }
   },
   "cell_type": "code",
   "source": [
    "%useLatestDescriptors\n",
    "%use coroutines\n",
    "\n",
    "USE {\n",
    "    dependencies(\n",
    "        \"ai.koog:koog-agents-jvm:0.4.3-dev-25092025-feat-856\",\n",
    "        \"me.kpavlov.finchly:finchly:0.1.1\",\n",
    "        \"io.kotest:kotest-assertions-core-jvm:6.0.3\"\n",
    "    )\n",
    "}"
   ],
   "outputs": [],
   "execution_count": 5
  },
  {
   "metadata": {},
   "cell_type": "markdown",
   "source": "# How fast the LLM is ?"
  },
  {
   "metadata": {
    "ExecuteTime": {
     "end_time": "2025-10-02T12:47:34.509932Z",
     "start_time": "2025-10-02T12:47:24.357402Z"
    }
   },
   "cell_type": "code",
   "source": [
    "import ai.koog.agents.core.agent.AIAgent\n",
    "import ai.koog.prompt.executor.clients.openai.OpenAIModels\n",
    "import ai.koog.prompt.executor.llms.all.simpleOpenAIExecutor\n",
    "import io.kotest.assertions.assertSoftly\n",
    "import kotlinx.coroutines.runBlocking\n",
    "import me.kpavlov.finchly.BaseTestEnvironment\n",
    "import kotlinx.coroutines.runBlocking\n",
    "import kotlin.system.measureTimeMillis\n",
    "import kotlin.time.measureTime\n",
    "import kotlin.time.measureTimedValue\n",
    "\n",
    "val env = BaseTestEnvironment(dotEnvFileDir = \"./../\")\n",
    "\n",
    "val agent = AIAgent(\n",
    "    promptExecutor = simpleOpenAIExecutor(env[\"OPENAI_API_KEY\"]!!),\n",
    "    llmModel = OpenAIModels.CostOptimized.GPT4_1Mini,\n",
    "    temperature = 0.9\n",
    ")\n",
    "\n",
    "runBlocking {\n",
    "    val averageMillis = (1..5).map {\n",
    "        measureTimeMillis {\n",
    "            val answer = agent.run(\"Which color do elves, love most?\")\n",
    "            println(\"✅ $answer\")\n",
    "        }\n",
    "    }.average()\n",
    "    println(\"⏱️ Avgerage duration = ${averageMillis.milliseconds}\")\n",
    "}"
   ],
   "outputs": [
    {
     "name": "stdout",
     "output_type": "stream",
     "text": [
      "✅ There isn't a definitive answer to which color elves love most, as it often depends on the particular mythology, story, or culture depicting elves. In many fantasy settings, elves are associated with nature, so colors like green, silver, or white are commonly linked to them. For example:\n",
      "\n",
      "- **Green:** Symbolizes forests, growth, and life—elements closely tied to elves in folklore.\n",
      "- **Silver or White:** Often used to represent the ethereal, magical, or moonlit qualities of elves.\n",
      "\n",
      "If you're thinking of a specific fictional universe or cultural tradition, I can provide a more tailored answer!\n",
      "✅ There isn't a definitive answer since elves are mythical creatures and their preferences can vary depending on the specific lore or story. However, in many fantasy traditions, elves are often associated with nature and magic, so colors like green, silver, or gold are commonly linked to them. Green, symbolizing nature and forests, is frequently considered a favorite or significant color for elves. \n",
      "\n",
      "Is there a particular story or context you're thinking of? That might help narrow down the answer!\n",
      "✅ Elves, being mythical creatures from various folklore and fantasy settings, don’t have a universally agreed-upon favorite color. However, in many stories and depictions, elves are often associated with nature, forests, and magic. Because of this, colors like green (representing forests and growth), silver (symbolizing magic and moonlight), and gold (representing elegance and nobility) are commonly linked to elves.\n",
      "\n",
      "If you have a specific fictional universe or context in mind (like Tolkien’s elves, Dungeons & Dragons elves, or others), I can provide a more tailored answer!\n",
      "✅ Elves are often depicted in various works of fantasy and folklore, and their preferences can vary depending on the story or setting. However, a common association is that elves love the color green the most. This is because green represents nature, forests, and life, which are elements closely connected to elves in many myths and fantasy worlds.\n",
      "\n",
      "If you have a specific elf lore or universe in mind (like Tolkien's elves, Dungeons & Dragons, or another fantasy setting), I can provide a more tailored answer!\n",
      "✅ There isn't a definitive answer since elves are mythical creatures from various folklore and fantasy stories, and their preferences can vary depending on the specific mythos or fictional universe. However, in many fantasy settings, elves are often associated with nature, so they might be said to love colors like green, representing forests and growth, or silver, symbolizing moonlight and magic.\n",
      "\n",
      "If you're referring to a specific story or universe, I can provide a more tailored answer!\n",
      "⏱️ Avgerage duration = 2.013200s\n"
     ]
    }
   ],
   "execution_count": 19
  }
 ],
 "metadata": {
  "kernelspec": {
   "display_name": "Kotlin",
   "language": "kotlin",
   "name": "kotlin"
  },
  "language_info": {
   "name": "kotlin",
   "version": "2.2.20-Beta2",
   "mimetype": "text/x-kotlin",
   "file_extension": ".kt",
   "pygments_lexer": "kotlin",
   "codemirror_mode": "text/x-kotlin",
   "nbconvert_exporter": ""
  }
 },
 "nbformat": 4,
 "nbformat_minor": 0
}
