{
 "cells": [
  {
   "metadata": {
    "ExecuteTime": {
     "end_time": "2025-10-07T08:33:35.934302Z",
     "start_time": "2025-10-07T08:33:35.702151Z"
    }
   },
   "cell_type": "code",
   "source": [
    "%useLatestDescriptors\n",
    "%use coroutines\n",
    "// %use koog\n",
    "\n",
    "USE {\n",
    "    dependencies(\n",
    "        \"ai.koog:koog-agents-jvm:0.5.0\",\n",
    "        \"me.kpavlov.finchly:finchly:0.1.1\",\n",
    "        \"io.kotest:kotest-assertions-core-jvm:6.0.3\"\n",
    "    )\n",
    "}"
   ],
   "outputs": [],
   "execution_count": 4
  },
  {
   "metadata": {},
   "cell_type": "markdown",
   "source": "# How fast the LLM is ?"
  },
  {
   "metadata": {
    "ExecuteTime": {
     "end_time": "2025-10-07T08:33:45.841376Z",
     "start_time": "2025-10-07T08:33:35.940127Z"
    }
   },
   "cell_type": "code",
   "source": [
    "import ai.koog.agents.core.agent.AIAgent\n",
    "import ai.koog.agents.core.agent.AIAgentService\n",
    "import ai.koog.prompt.executor.clients.openai.OpenAIModels\n",
    "import ai.koog.prompt.executor.llms.all.simpleOpenAIExecutor\n",
    "import io.kotest.assertions.assertSoftly\n",
    "import kotlinx.coroutines.runBlocking\n",
    "import me.kpavlov.finchly.BaseTestEnvironment\n",
    "import kotlinx.coroutines.runBlocking\n",
    "import kotlin.system.measureTimeMillis\n",
    "import kotlin.time.measureTime\n",
    "import kotlin.time.measureTimedValue\n",
    "\n",
    "val env = BaseTestEnvironment(dotEnvFileDir = \"./../\")\n",
    "\n",
    "val agentService = AIAgentService(\n",
    "    promptExecutor = simpleOpenAIExecutor(env[\"OPENAI_API_KEY\"]!!),\n",
    "    llmModel = OpenAIModels.CostOptimized.GPT4_1Mini,\n",
    "    temperature = 0.9\n",
    ")\n",
    "\n",
    "runBlocking {\n",
    "    val averageMillis = (1..5).map {\n",
    "        measureTimeMillis {\n",
    "            val answer = agentService.createAgentAndRun(\"Which color do elves, love most?\")\n",
    "            println(\"✅ $answer\")\n",
    "        }\n",
    "    }.average()\n",
    "    println(\"⏱️ Avgerage duration = ${averageMillis.milliseconds}\")\n",
    "}"
   ],
   "outputs": [
    {
     "name": "stdout",
     "output_type": "stream",
     "text": [
      "✅ There isn't a definitive answer to which color elves love most, as it depends on the context—whether you're referring to elves in folklore, fantasy literature, or popular culture. For example:\n",
      "\n",
      "- In many fantasy settings like J.R.R. Tolkien's works, elves are often associated with natural colors such as green, silver, gold, and white, reflecting their connection to nature and ethereal beauty.\n",
      "- In some role-playing games, elves may favor colors like green or blue, symbolizing their affinity with forests or magic.\n",
      "- In folklore, elves don't have a specific favorite color.\n",
      "\n",
      "If you have a particular type of elf or story in mind, I can provide a more tailored answer!\n",
      "✅ There isn’t a definitive answer since elves are mythical creatures and their preferences can vary depending on the story or folklore. However, in many fantasy settings, elves are often associated with nature and the forest, so they are frequently depicted as loving colors like green, silver, or gold. Green symbolizes their connection to nature, silver represents elegance and magic, and gold can symbolize their nobility or otherworldly qualities. If you have a specific story or universe in mind, I can provide a more tailored answer!\n",
      "✅ Elves are often associated with the color green, as it symbolizes nature, forests, and magic—elements commonly linked to elves in mythology and fantasy. So, if you’re thinking about which color elves might love most, green is usually a good guess! \n",
      "\n",
      "Is there a particular story or context you’re referring to? That might help narrow it down further.\n",
      "✅ Elves are often associated with the color green, as it represents nature, growth, and their close connection to forests and natural environments in many mythologies and fantasy settings. However, preferences can vary depending on the specific lore or story. Is there a particular type of elf or fictional universe you have in mind?\n",
      "✅ There isn't a definitive answer to which color elves love most, as it often depends on the specific mythology, story, or fictional universe you're referring to. In many fantasy settings, elves are associated with nature and the forest, so colors like green, silver, or earthy tones are commonly linked to them. If you have a particular lore or context in mind, I can provide a more tailored answer!\n",
      "⏱️ Avgerage duration = 1.965600s\n"
     ]
    }
   ],
   "execution_count": 5
  }
 ],
 "metadata": {
  "kernelspec": {
   "display_name": "Kotlin",
   "language": "kotlin",
   "name": "kotlin"
  },
  "language_info": {
   "name": "kotlin",
   "version": "2.2.20-Beta2",
   "mimetype": "text/x-kotlin",
   "file_extension": ".kt",
   "pygments_lexer": "kotlin",
   "codemirror_mode": "text/x-kotlin",
   "nbconvert_exporter": ""
  }
 },
 "nbformat": 4,
 "nbformat_minor": 0
}
