{
 "cells": [
  {
   "metadata": {
    "ExecuteTime": {
     "end_time": "2025-10-08T09:47:30.908967Z",
     "start_time": "2025-10-08T09:47:29.971834Z"
    }
   },
   "cell_type": "code",
   "source": [
    "%useLatestDescriptors\n",
    "%use coroutines\n",
    "// %use koog\n",
    "\n",
    "USE {\n",
    "    dependencies(\n",
    "        \"ai.koog:koog-agents-jvm:0.5.0\",\n",
    "        \"me.kpavlov.finchly:finchly:0.1.1\",\n",
    "        \"io.kotest:kotest-assertions-core-jvm:6.0.3\"\n",
    "    )\n",
    "}"
   ],
   "outputs": [],
   "execution_count": 1
  },
  {
   "metadata": {},
   "cell_type": "markdown",
   "source": "# How fast the LLM is ?"
  },
  {
   "metadata": {
    "ExecuteTime": {
     "end_time": "2025-10-08T09:47:43.138874Z",
     "start_time": "2025-10-08T09:47:30.915700Z"
    }
   },
   "cell_type": "code",
   "source": [
    "import ai.koog.agents.core.agent.AIAgent\n",
    "import ai.koog.agents.core.agent.AIAgentService\n",
    "import ai.koog.prompt.executor.clients.openai.OpenAIModels\n",
    "import ai.koog.prompt.executor.llms.all.simpleOpenAIExecutor\n",
    "import io.kotest.assertions.assertSoftly\n",
    "import kotlinx.coroutines.runBlocking\n",
    "import me.kpavlov.finchly.BaseTestEnvironment\n",
    "import kotlinx.coroutines.runBlocking\n",
    "import kotlin.system.measureTimeMillis\n",
    "import kotlin.time.measureTime\n",
    "import kotlin.time.measureTimedValue\n",
    "\n",
    "val env = BaseTestEnvironment(dotEnvFileDir = \"./../\")\n",
    "\n",
    "val agentService = AIAgentService(\n",
    "    promptExecutor = simpleOpenAIExecutor(env[\"OPENAI_API_KEY\"]!!),\n",
    "    llmModel = OpenAIModels.CostOptimized.GPT4_1Mini,\n",
    "    temperature = 0.9\n",
    ")\n",
    "\n",
    "runBlocking {\n",
    "    val averageMillis = (1..5).map {\n",
    "        measureTimeMillis {\n",
    "            val answer = agentService.createAgentAndRun(\"Which color do elves, love most?\")\n",
    "            println(\"✅ $answer\")\n",
    "        }\n",
    "    }.average()\n",
    "    println(\"⏱️ Avgerage duration = ${averageMillis.milliseconds}\")\n",
    "}"
   ],
   "outputs": [
    {
     "name": "stdout",
     "output_type": "stream",
     "text": [
      "✅ Elves are fictional beings found in various mythologies and fantasy settings, so their preferences can vary depending on the specific story or culture. However, in many fantasy traditions—such as those inspired by J.R.R. Tolkien or common high fantasy tropes—elves are often associated with nature and the forest. Because of this, they are frequently linked to the color **green**, symbolizing their connection to trees, plants, and natural magic.\n",
      "\n",
      "If you have a particular mythology, book, or game in mind, I can provide a more tailored answer!\n",
      "✅ Elves are mythical creatures and their preferences can vary widely depending on the folklore, literature, or fantasy setting. In many fantasy stories, elves are often associated with nature, so they might favor colors like green, which symbolizes the forest and natural elements. Some depictions also link elves with silver, white, or other colors that evoke elegance and magic.\n",
      "\n",
      "If you have a particular story or universe in mind, let me know, and I can provide a more specific answer!\n",
      "✅ There isn't a definitive answer to which color elves love most, as \"elves\" can refer to various fictional or mythological beings with different cultural backgrounds and stories. However, in many fantasy settings and folklore, elves are often associated with nature, forests, and magic. Because of this, colors like **green** (symbolizing forests and growth), **silver** (representing magic and moonlight), and **gold** (symbolizing light and elegance) are commonly linked to elves.\n",
      "\n",
      "If you have a specific fictional universe or context in mind, I can provide a more tailored answer!\n",
      "✅ Elves, as mythical or fantasy beings, don't have a universally agreed-upon favorite color. Their preferences can vary widely depending on the specific story, culture, or universe they come from. However, in many fantasy settings, elves are often associated with colors that reflect nature and magic, such as green (symbolizing forests and growth), silver or white (symbolizing purity and magic), and sometimes blue (reflecting wisdom or the sky).\n",
      "\n",
      "If you're referring to a particular book, game, or mythology, let me know, and I can provide a more specific answer!\n",
      "✅ Elves, as mythical or fictional beings, don't have a universally agreed-upon favorite color since their preferences vary depending on the story, culture, or author. However, in many fantasy settings, elves are often associated with natural elements, so colors like green (symbolizing forests and nature), silver (evoking elegance and magic), and blue (representing wisdom and tranquility) are commonly linked to them.\n",
      "\n",
      "If you're referring to a specific fictional universe or context, let me know, and I can provide a more tailored answer!\n",
      "⏱️ Avgerage duration = 2.361400s\n"
     ]
    }
   ],
   "execution_count": 2
  }
 ],
 "metadata": {
  "kernelspec": {
   "display_name": "Kotlin",
   "language": "kotlin",
   "name": "kotlin"
  },
  "language_info": {
   "name": "kotlin",
   "version": "2.2.20-Beta2",
   "mimetype": "text/x-kotlin",
   "file_extension": ".kt",
   "pygments_lexer": "kotlin",
   "codemirror_mode": "text/x-kotlin",
   "nbconvert_exporter": ""
  }
 },
 "nbformat": 4,
 "nbformat_minor": 0
}
