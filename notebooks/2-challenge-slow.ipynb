{
 "cells": [
  {
   "metadata": {
    "ExecuteTime": {
     "end_time": "2025-10-02T22:16:48.731573Z",
     "start_time": "2025-10-02T22:16:48.473438Z"
    }
   },
   "cell_type": "code",
   "source": [
    "%useLatestDescriptors\n",
    "%use coroutines\n",
    "\n",
    "USE {\n",
    "    dependencies(\n",
    "        \"ai.koog:koog-agents-jvm:0.5.0\",\n",
    "        \"me.kpavlov.finchly:finchly:0.1.1\",\n",
    "        \"io.kotest:kotest-assertions-core-jvm:6.0.3\"\n",
    "    )\n",
    "}"
   ],
   "outputs": [],
   "execution_count": 22
  },
  {
   "metadata": {},
   "cell_type": "markdown",
   "source": "# How fast the LLM is ?"
  },
  {
   "metadata": {
    "ExecuteTime": {
     "end_time": "2025-10-02T22:17:00.993065Z",
     "start_time": "2025-10-02T22:16:48.735378Z"
    }
   },
   "cell_type": "code",
   "source": [
    "import ai.koog.agents.core.agent.AIAgent\n",
    "import ai.koog.prompt.executor.clients.openai.OpenAIModels\n",
    "import ai.koog.prompt.executor.llms.all.simpleOpenAIExecutor\n",
    "import io.kotest.assertions.assertSoftly\n",
    "import kotlinx.coroutines.runBlocking\n",
    "import me.kpavlov.finchly.BaseTestEnvironment\n",
    "import kotlinx.coroutines.runBlocking\n",
    "import kotlin.system.measureTimeMillis\n",
    "import kotlin.time.measureTime\n",
    "import kotlin.time.measureTimedValue\n",
    "\n",
    "val env = BaseTestEnvironment(dotEnvFileDir = \"./../\")\n",
    "\n",
    "val agent = AIAgent(\n",
    "    promptExecutor = simpleOpenAIExecutor(env[\"OPENAI_API_KEY\"]!!),\n",
    "    llmModel = OpenAIModels.CostOptimized.GPT4_1Mini,\n",
    "    temperature = 0.9\n",
    ")\n",
    "\n",
    "runBlocking {\n",
    "    val averageMillis = (1..5).map {\n",
    "        measureTimeMillis {\n",
    "            val answer = agent.run(\"Which color do elves, love most?\")\n",
    "            println(\"✅ $answer\")\n",
    "        }\n",
    "    }.average()\n",
    "    println(\"⏱️ Avgerage duration = ${averageMillis.milliseconds}\")\n",
    "}"
   ],
   "outputs": [
    {
     "name": "stdout",
     "output_type": "stream",
     "text": [
      "✅ There isn't a definitive answer since elves are mythical creatures and their preferences can vary widely depending on the story or tradition. However, in many fantasy settings, elves are often associated with nature and the forest, so they tend to favor colors like green, representing leaves and growth, or silver and blue, symbolizing moonlight and magic. If you're thinking about a specific book, game, or mythology, the preferred color might differ! Is there a particular context you're interested in?\n",
      "✅ There isn’t a definitive answer to which color elves love most, as it often depends on the specific folklore, fictional universe, or author’s depiction. However, in many fantasy settings, elves are commonly associated with nature, so colors like green and silver are frequently linked to them. Green symbolizes forests, growth, and life, while silver can represent magic and mysticism.\n",
      "\n",
      "If you have a particular elf lore or story in mind, I can provide a more tailored answer!\n",
      "✅ There isn't a definitive answer to which color elves love most, as elves are mythical creatures depicted differently across various stories and cultures. However, in many fantasy settings, elves are often associated with nature and magic. They tend to favor colors that reflect natural elements—like green, symbolizing forests and life; silver, representing moonlight and mysticism; or even shades of blue, reflecting the sky and water.\n",
      "\n",
      "If you have a specific story, game, or universe in mind, I can give a more tailored answer!\n",
      "✅ Elves are often associated with the color green, as it represents nature, forests, and growth—elements commonly linked to elves in folklore and fantasy. However, the favorite color of elves can vary depending on the specific mythology or fictional setting. Is there a particular type of elf or story you're referring to?\n",
      "✅ There isn't a definitive answer since elves are mythical creatures and their preferences can vary depending on the story or folklore. However, in many fantasy settings and folklore, elves are often associated with nature and greenery, so green is frequently depicted as their favorite or most significant color. It symbolizes their connection to forests, plants, and natural magic. \n",
      "\n",
      "If you're referring to a specific fictional universe, I can provide a more tailored answer!\n",
      "⏱️ Avgerage duration = 2.437800s\n"
     ]
    }
   ],
   "execution_count": 23
  }
 ],
 "metadata": {
  "kernelspec": {
   "display_name": "Kotlin",
   "language": "kotlin",
   "name": "kotlin"
  },
  "language_info": {
   "name": "kotlin",
   "version": "2.2.20-Beta2",
   "mimetype": "text/x-kotlin",
   "file_extension": ".kt",
   "pygments_lexer": "kotlin",
   "codemirror_mode": "text/x-kotlin",
   "nbconvert_exporter": ""
  }
 },
 "nbformat": 4,
 "nbformat_minor": 0
}
