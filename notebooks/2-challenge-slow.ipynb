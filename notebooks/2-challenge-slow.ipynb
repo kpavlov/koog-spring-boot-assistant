{
 "cells": [
  {
   "metadata": {
    "ExecuteTime": {
     "end_time": "2025-10-02T10:44:02.988455Z",
     "start_time": "2025-10-02T10:44:02.798811Z"
    }
   },
   "cell_type": "code",
   "source": [
    "%useLatestDescriptors\n",
    "%use coroutines\n",
    "\n",
    "USE {\n",
    "    dependencies(\n",
    "        \"ai.koog:koog-agents-jvm:0.4.3-dev-25092025-feat-856\",\n",
    "        \"me.kpavlov.finchly:finchly:0.1.1\",\n",
    "        \"io.kotest:kotest-assertions-core-jvm:6.0.3\"\n",
    "    )\n",
    "}"
   ],
   "outputs": [],
   "execution_count": 5
  },
  {
   "metadata": {},
   "cell_type": "markdown",
   "source": "# How fast the LLM is ?"
  },
  {
   "metadata": {
    "ExecuteTime": {
     "end_time": "2025-10-02T10:52:12.308208Z",
     "start_time": "2025-10-02T10:52:01.510978Z"
    }
   },
   "cell_type": "code",
   "source": [
    "import ai.koog.agents.core.agent.AIAgent\n",
    "import ai.koog.prompt.executor.clients.openai.OpenAIModels\n",
    "import ai.koog.prompt.executor.llms.all.simpleOpenAIExecutor\n",
    "import io.kotest.assertions.assertSoftly\n",
    "import kotlinx.coroutines.runBlocking\n",
    "import me.kpavlov.finchly.BaseTestEnvironment\n",
    "import kotlinx.coroutines.runBlocking\n",
    "import kotlin.system.measureTimeMillis\n",
    "import kotlin.time.measureTime\n",
    "import kotlin.time.measureTimedValue\n",
    "\n",
    "val env = BaseTestEnvironment(dotEnvFileDir = \"./../\")\n",
    "\n",
    "val agent = AIAgent(\n",
    "    promptExecutor = simpleOpenAIExecutor(env[\"OPENAI_API_KEY\"]!!),\n",
    "    llmModel = OpenAIModels.CostOptimized.GPT4_1Mini,\n",
    "    temperature = 0.9\n",
    ")\n",
    "\n",
    "runBlocking {\n",
    "    val averageMillis = (1..5).map {\n",
    "        measureTimeMillis {\n",
    "            val answer = agent.run(\"Which color do elves, love most?\")\n",
    "            println(\"✅ $answer\")\n",
    "        }\n",
    "    }.average()\n",
    "    println(\"⏱️ Avgerage duration = ${averageMillis.milliseconds}\")\n",
    "}"
   ],
   "outputs": [
    {
     "name": "stdout",
     "output_type": "stream",
     "text": [
      "✅ Elves, as mythical or fantasy creatures, don't have a universally agreed-upon favorite color since their preferences can vary depending on the story, culture, or author. However, in many fantasy settings—like those inspired by Tolkien's works or popular fantasy games—elves are often associated with natural colors such as green, silver, or gold. Green is commonly linked to their connection with nature and forests.\n",
      "\n",
      "If you have a specific context or fictional world in mind, I can provide a more tailored answer!\n",
      "✅ Elves are mythical creatures often featured in folklore and fantasy literature, and their preferences can vary depending on the specific story or cultural depiction. In many fantasy settings, elves are associated with nature, so they might be said to love colors like green, representing forests and growth, or silver, symbolizing moonlight and magic.\n",
      "\n",
      "If you have a particular story or context in mind, I can provide a more tailored answer!\n",
      "✅ Elves are often depicted in various mythologies, literature, and fantasy settings, and their preferences can vary widely depending on the source. However, if you're referring to classic folklore or popular fantasy genres (like Tolkien's works), elves are commonly associated with nature and often favor colors like green, silver, or gold, which symbolize their connection to forests, magic, and elegance.\n",
      "\n",
      "If you have a specific type of elf or fictional universe in mind, I can provide a more tailored answer!\n",
      "✅ Elves, as mythical or fantasy beings, don't have a universally agreed-upon favorite color since their preferences can vary widely depending on the particular story, culture, or author. However, in many fantasy traditions, elves are often associated with nature and the forest, so colors like green, silver, or shades of blue and white are commonly linked to them.\n",
      "\n",
      "For example:\n",
      "- **Green:** Symbolizing their connection to nature, forests, and growth.\n",
      "- **Silver or White:** Often representing purity, magic, and elegance.\n",
      "- **Blue:** Sometimes associated with wisdom and tranquility.\n",
      "\n",
      "If you have a specific story, mythology, or version of elves in mind, I could give a more tailored answer!\n",
      "✅ There isn't a definitive answer to which color elves love most, as elves are fictional beings and their preferences vary widely depending on the mythology, literature, or fantasy universe in question. However, in many fantasy settings, elves are often associated with nature and elegance, so colors like green, silver, gold, or shades of blue are commonly linked to them. If you have a specific story or universe in mind, I can provide a more tailored answer!\n",
      "⏱️ Avgerage duration = 2.146s\n"
     ]
    }
   ],
   "execution_count": 18
  }
 ],
 "metadata": {
  "kernelspec": {
   "display_name": "Kotlin",
   "language": "kotlin",
   "name": "kotlin"
  },
  "language_info": {
   "name": "kotlin",
   "version": "2.2.20-Beta2",
   "mimetype": "text/x-kotlin",
   "file_extension": ".kt",
   "pygments_lexer": "kotlin",
   "codemirror_mode": "text/x-kotlin",
   "nbconvert_exporter": ""
  }
 },
 "nbformat": 4,
 "nbformat_minor": 0
}
