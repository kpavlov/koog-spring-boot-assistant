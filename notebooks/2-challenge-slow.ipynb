{
 "cells": [
  {
   "metadata": {
    "ExecuteTime": {
     "end_time": "2025-09-21T08:39:02.026519Z",
     "start_time": "2025-09-21T08:39:01.830816Z"
    }
   },
   "cell_type": "code",
   "source": [
    "%useLatestDescriptors\n",
    "%use coroutines\n",
    "// ⬇️⬇️⬇️⬇️️\n",
    "%use koog\n",
    "\n",
    "USE {\n",
    "    dependencies(\n",
    "        \"me.kpavlov.finchly:finchly:0.1.1\",\n",
    "        \"io.kotest:kotest-assertions-core-jvm:6.0.3\",\n",
    "        )\n",
    "    //dependencies(\"ai.koog:koog-agents:0.4.2\")\n",
    "}"
   ],
   "outputs": [],
   "execution_count": 2
  },
  {
   "metadata": {},
   "cell_type": "markdown",
   "source": "# How fast the LLM is ?"
  },
  {
   "metadata": {
    "ExecuteTime": {
     "end_time": "2025-09-21T08:39:12.274765Z",
     "start_time": "2025-09-21T08:39:02.030596Z"
    }
   },
   "cell_type": "code",
   "source": [
    "import kotlinx.coroutines.runBlocking\n",
    "import me.kpavlov.finchly.BaseTestEnvironment\n",
    "import kotlin.system.measureTimeMillis\n",
    "import kotlin.time.measureTime\n",
    "import kotlin.time.measureTimedValue\n",
    "\n",
    "val env = BaseTestEnvironment(dotEnvFileDir = \"./../\")\n",
    "\n",
    "val agent = AIAgent(\n",
    "    executor = simpleOpenAIExecutor(env[\"OPENAI_API_KEY\"]!!),\n",
    "    llmModel = OpenAIModels.CostOptimized.O3Mini,\n",
    "    temperature = 0.9\n",
    ")\n",
    "\n",
    "runBlocking {\n",
    "    val averageMillis = (1..5).map {\n",
    "        measureTimeMillis {\n",
    "            val answer = agent.run(\"What is two plus two\")\n",
    "            println(\"✅ $answer\")\n",
    "        }\n",
    "    }.average()\n",
    "    println(\"⏱️ Avgerage duration = ${averageMillis.milliseconds}\")\n",
    "}"
   ],
   "outputs": [
    {
     "name": "stdout",
     "output_type": "stream",
     "text": [
      "✅ Two plus two equals four.\n",
      "✅ Two plus two is four.\n",
      "✅ Two plus two equals four.\n",
      "✅ Two plus two equals four.\n",
      "✅ Two plus two equals four.\n",
      "⏱️ Avgerage duration = 1.991800s\n"
     ]
    }
   ],
   "execution_count": 3
  }
 ],
 "metadata": {
  "kernelspec": {
   "display_name": "Kotlin",
   "language": "kotlin",
   "name": "kotlin"
  },
  "language_info": {
   "name": "kotlin",
   "version": "2.2.20-Beta2",
   "mimetype": "text/x-kotlin",
   "file_extension": ".kt",
   "pygments_lexer": "kotlin",
   "codemirror_mode": "text/x-kotlin",
   "nbconvert_exporter": ""
  },
  "ktnbPluginMetadata": {
   "projectLibraries": true
  }
 },
 "nbformat": 4,
 "nbformat_minor": 0
}
